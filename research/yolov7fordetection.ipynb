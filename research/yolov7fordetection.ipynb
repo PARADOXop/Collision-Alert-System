{
  "cells": [
    {
      "cell_type": "code",
      "execution_count": null,
      "metadata": {
        "colab": {
          "base_uri": "https://localhost:8080/"
        },
        "id": "8pYE_s5tpw5t",
        "outputId": "01a970d3-4997-44ca-cccd-986e0e8d2995"
      },
      "outputs": [],
      "source": [
        "\n",
        "!git clone https://github.com/WongKinYiu/yolov7.git"
      ]
    },
    {
      "cell_type": "code",
      "execution_count": null,
      "metadata": {
        "colab": {
          "base_uri": "https://localhost:8080/"
        },
        "id": "-7viDuCJqFR9",
        "outputId": "b8d2c9f5-98a7-49a5-eb89-7abdcc4dc9db"
      },
      "outputs": [],
      "source": [
        "%cd yolov7\n",
        "!pip install -r requirements.txt -q\n",
        "%cd  .."
      ]
    },
    {
      "cell_type": "code",
      "execution_count": null,
      "metadata": {
        "id": "t6V7BF-OqFMb"
      },
      "outputs": [],
      "source": [
        "!pip install kaggle -q\n",
        "\n"
      ]
    },
    {
      "cell_type": "code",
      "execution_count": null,
      "metadata": {
        "colab": {
          "base_uri": "https://localhost:8080/"
        },
        "id": "7VtFyJ7bO16X",
        "outputId": "c0b5ba4c-50bd-4fb6-c294-699474013347"
      },
      "outputs": [],
      "source": [
        "!kaggle datasets download -d ravirajkukade/vehicle-dataset --force\n",
        "!mkdir -p /content/drive/MyDrive/car_detection/\n",
        "!unzip -q vehicle-dataset.zip -d /content/drive/MyDrive/car_detection/\n"
      ]
    },
    {
      "cell_type": "code",
      "execution_count": null,
      "metadata": {
        "colab": {
          "base_uri": "https://localhost:8080/"
        },
        "id": "GHNUwbjUqFJn",
        "outputId": "af2c1200-5a91-4344-d9eb-57a46ff6163a"
      },
      "outputs": [],
      "source": [
        "!wget https://github.com/WongKinYiu/yolov7/releases/download/v0.1/yolov7-tiny.pt\n"
      ]
    },
    {
      "cell_type": "code",
      "execution_count": null,
      "metadata": {
        "colab": {
          "base_uri": "https://localhost:8080/"
        },
        "id": "wfOfAILJqFG9",
        "outputId": "412c60b4-5afd-49f0-cdd1-2b49120e2bb6"
      },
      "outputs": [],
      "source": [
        "!python yolov7/train.py --device 0 --weights yolov7-tiny.pt --cfg /yolov7/cfg/training/yolov7-tiny.yaml --data /content/drive/MyDrive/car_detection/trafic_data/data_1.yaml --epochs 100 --batch-size 16 --img 640 640\n"
      ]
    },
    {
      "cell_type": "code",
      "execution_count": null,
      "metadata": {
        "colab": {
          "base_uri": "https://localhost:8080/",
          "height": 17
        },
        "id": "BNLO8F03uHfv",
        "outputId": "7e387413-fff5-4e5c-c978-797bc8420d6f"
      },
      "outputs": [],
      "source": [
        "from google.colab import files\n",
        "\n",
        "files.download('/content/runs/train/exp/weights/best.pt')\n"
      ]
    }
  ],
  "metadata": {
    "accelerator": "GPU",
    "colab": {
      "gpuType": "T4",
      "provenance": []
    },
    "kernelspec": {
      "display_name": "Python 3",
      "name": "python3"
    },
    "language_info": {
      "codemirror_mode": {
        "name": "ipython",
        "version": 3
      },
      "file_extension": ".py",
      "mimetype": "text/x-python",
      "name": "python",
      "nbconvert_exporter": "python",
      "pygments_lexer": "ipython3",
      "version": "3.8.19"
    }
  },
  "nbformat": 4,
  "nbformat_minor": 0
}
