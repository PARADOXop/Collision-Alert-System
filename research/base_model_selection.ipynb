{
  "cells": [
    {
      "cell_type": "code",
      "execution_count": null,
      "metadata": {
        "colab": {
          "base_uri": "https://localhost:8080/"
        },
        "id": "XjI5_SZqWRni",
        "outputId": "57732289-5b61-498d-fc14-e3a8f7c7f3af"
      },
      "outputs": [],
      "source": [
        "\n",
        "import os"
      ]
    },
    {
      "cell_type": "code",
      "execution_count": null,
      "metadata": {
        "colab": {
          "base_uri": "https://localhost:8080/",
          "height": 36
        },
        "id": "5Uj4RfW8WYZV",
        "outputId": "cbb25857-267f-4e20-9dba-14dd6cd319ee"
      },
      "outputs": [],
      "source": [
        "os.chdir('..')\n",
        "os.getcwd()"
      ]
    },
    {
      "cell_type": "code",
      "execution_count": null,
      "metadata": {},
      "outputs": [],
      "source": [
        "from dataclasses import dataclass\n",
        "from pathlib import Path\n",
        "\n",
        "@dataclass(frozen=True)\n",
        "class PrepareBaseModelConfig:\n",
        "    root_dir: Path\n",
        "    base_model_path: Path\n",
        "    updated_base_model_path: Path\n",
        "    image_size: list\n",
        "    learning_rate: float\n",
        "    AUGMENTATION: bool\n",
        "    momentum: float\n",
        "    optimizer: str\n",
        "    classes: int\n"
      ]
    },
    {
      "cell_type": "code",
      "execution_count": null,
      "metadata": {},
      "outputs": [],
      "source": [
        "from src.collision_alert.constants import *\n",
        "from src.collision_alert.utils import read_yaml, create_directories"
      ]
    },
    {
      "cell_type": "code",
      "execution_count": null,
      "metadata": {},
      "outputs": [],
      "source": [
        "class ConfigurationManager:\n",
        "    def __init__(\n",
        "        self, \n",
        "        config_filepath = CONFIG_FILE_PATH,\n",
        "        params_filepath = PARAMS_FILE_PATH):\n",
        "        self.config = read_yaml(config_filepath)\n",
        "        self.params = read_yaml(params_filepath)\n",
        "        create_directories([self.config.artifacts_root])\n",
        "\n",
        "    def get_prepare_base_model_config(self) -> PrepareBaseModelConfig:\n",
        "        config = self.config.prepare_base_model\n",
        "        \n",
        "        create_directories([config.root_dir])\n",
        "\n",
        "        prepare_base_model_config = PrepareBaseModelConfig(\n",
        "            root_dir=Path(config.root_dir),\n",
        "            base_model_path=Path(config.base_model_path),\n",
        "            updated_base_model_path=Path(config.updated_base_model_path),\n",
        "            image_size=self.params.IMAGE_SIZE,\n",
        "            learning_rate=self.params.LEARNING_RATE,\n",
        "            AUGMENTATION=self.params.AUGMENTATION,\n",
        "            momentum=self.params.momentum,\n",
        "            optimizer = self.params.optimizer,\n",
        "            classes=self.params.CLASSES\n",
        "        )\n",
        "\n",
        "        return prepare_base_model_config\n",
        "        "
      ]
    },
    {
      "cell_type": "code",
      "execution_count": null,
      "metadata": {},
      "outputs": [],
      "source": [
        "#!pip install ultralytics -q\n",
        "from ultralytics import YOLO\n",
        "class PrepareBaseModel:\n",
        "    def __init__(self, config: PrepareBaseModelConfig):\n",
        "        self.config = config\n",
        "        print(self.config.base_model_path)\n",
        "\n",
        "    def get_base_model(self):\n",
        "        self.model = YOLO('yolov8m.yaml')  # build a new model from YAML\n",
        "        self.model = YOLO('yolov8m.pt')  # load a pretrained model (recommended for training)\n",
        "        self.model = YOLO('yolov8m.yaml').load('yolov8m.pt')  # build from YAML and transfer weights\n",
        "\n",
        "        self.model.save(Path(self.config.base_model_path))\n",
        "\n",
        "        self.save_model(path=self.config.base_model_path, model=self.model)\n",
        "    @staticmethod\n",
        "    def save_model(path: Path, model):\n",
        "        model.save(path)"
      ]
    },
    {
      "cell_type": "code",
      "execution_count": null,
      "metadata": {},
      "outputs": [],
      "source": [
        "try:\n",
        "    config = ConfigurationManager()\n",
        "    prepare_base_model_config = config.get_prepare_base_model_config()\n",
        "    prepare_base_model = PrepareBaseModel(config=prepare_base_model_config)\n",
        "    prepare_base_model.get_base_model()\n",
        "except Exception as e:\n",
        "    raise e\n"
      ]
    }
  ],
  "metadata": {
    "accelerator": "GPU",
    "colab": {
      "gpuType": "T4",
      "provenance": []
    },
    "kernelspec": {
      "display_name": "Python 3",
      "name": "python3"
    },
    "language_info": {
      "codemirror_mode": {
        "name": "ipython",
        "version": 3
      },
      "file_extension": ".py",
      "mimetype": "text/x-python",
      "name": "python",
      "nbconvert_exporter": "python",
      "pygments_lexer": "ipython3",
      "version": "3.8.19"
    }
  },
  "nbformat": 4,
  "nbformat_minor": 0
}
