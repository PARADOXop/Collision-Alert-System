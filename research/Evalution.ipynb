{
 "cells": [
  {
   "cell_type": "code",
   "execution_count": null,
   "metadata": {},
   "outputs": [],
   "source": [
    "import os\n",
    "\n",
    "import ultralytics\n",
    "from ultralytics import YOLO\n",
    "os.chdir(\"../\")\n",
    "os.getcwd()"
   ]
  },
  {
   "cell_type": "code",
   "execution_count": null,
   "metadata": {},
   "outputs": [],
   "source": [
    "\"\"\"\n",
    "url = \"./artifacts/training/maybe_final.tflite\"\n",
    "model = YOLO(url, task = 'detect')\n",
    "model.predict(source='photo.jpg', show = True, save = False)\n",
    "\n",
    "import cv2\n",
    "import numpy as np\n",
    "import tensorflow as tf\n",
    "\n",
    "# Load the TensorFlow Lite model\n",
    "interpreter = tf.lite.Interpreter(model_path=url)\n",
    "interpreter.allocate_tensors()\n",
    "\n",
    "# Get input and output tensors.\n",
    "input_details = interpreter.get_input_details()\n",
    "output_details = interpreter.get_output_details()\n",
    "\n",
    "# Load your image\n",
    "input_data = cv2.imread(\"photo.jpg\")\n",
    "image = cv2.imread('photo.jpg')\n",
    "# Preprocess the input image (if required)\n",
    "# Assuming the model expects input in the format (batch_size, height, width, channels)\n",
    "# Perform inference\n",
    "# Convert input data to float32\n",
    "input_data = np.expand_dims(input_data, axis=0)\n",
    "\n",
    "# Convert input data to float32\n",
    "input_data = input_data.astype(np.float32)\n",
    "\n",
    "# Preprocess the input data if required\n",
    "# Assuming the model expects input in the format (batch_size, height, width, channels)\n",
    "\n",
    "# Perform inference\n",
    "interpreter.set_tensor(input_details[0]['index'], input_data)\n",
    "interpreter.invoke()\n",
    "\n",
    "# Get the output\n",
    "output_data = interpreter.get_tensor(output_details[0]['index'])\n",
    "\n",
    "# Process the output (e.g., draw bounding boxes)\n",
    "for obj in output_data[0]:\n",
    "    x_center, y_center, width, height, confidence = obj[:4]\n",
    "    # Draw bounding box, add confidence text, etc.\n",
    "\n",
    "# Display the image with bounding boxes\n",
    "cv2.imshow(\"Image with Bounding Boxes\", image)\n",
    "cv2.waitKey(0)\n",
    "cv2.destroyAllWindows()\"\"\""
   ]
  },
  {
   "cell_type": "code",
   "execution_count": null,
   "metadata": {},
   "outputs": [],
   "source": [
    "import json\n",
    "import requests\n",
    "import vars\n",
    "\n",
    "# Run inference on an image\n",
    "url = vars.url\n",
    "headers = {\"x-api-key\": vars.x_api_key}\n",
    "data = {\"size\": 640, \"confidence\": 0.25, \"iou\": 0.3}\n",
    "with open(\"./artifacts/data_ingestion/trafic_data/train/images/02_jpg.rf.65a084066fc353cd023eb5c953f40efe.jpg\", \"rb\") as f:\n",
    "\tresponse = requests.post(url, headers=headers, data=data, files={\"image\": f})\n",
    "\n",
    "# Check for successful response\n",
    "response.raise_for_status()\n",
    "\n",
    "# Print inference results\n",
    "result = response.json()\n",
    "print(result)\n"
   ]
  },
  {
   "cell_type": "code",
   "execution_count": null,
   "metadata": {},
   "outputs": [],
   "source": [
    "model = YOLO(model='./artifacts/training/maybe_final.tflite', task = 'detect')\n",
    "results = model.predict(source=\"photo.jpg\", show=True)"
   ]
  }
 ],
 "metadata": {
  "kernelspec": {
   "display_name": "Python 3",
   "language": "python",
   "name": "python3"
  },
  "language_info": {
   "codemirror_mode": {
    "name": "ipython",
    "version": 3
   },
   "file_extension": ".py",
   "mimetype": "text/x-python",
   "name": "python",
   "nbconvert_exporter": "python",
   "pygments_lexer": "ipython3",
   "version": "3.8.19"
  }
 },
 "nbformat": 4,
 "nbformat_minor": 2
}
